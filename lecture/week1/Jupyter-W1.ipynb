{
 "cells": [
  {
   "cell_type": "code",
   "execution_count": null,
   "metadata": {},
   "outputs": [],
   "source": [
    "def first_n(n):\n",
    "    '''Build and return a list'''\n",
    "    num, nums = 0, []\n",
    "    while num < n:\n",
    "        nums.append(num)\n",
    "        num += 1\n",
    "    return nums\n",
    "\n",
    "sum_of_first_n = sum(first_n(1000000))\n",
    "print (\"Result from list:\", sum_of_first_n)"
   ]
  },
  {
   "cell_type": "code",
   "execution_count": null,
   "metadata": {},
   "outputs": [],
   "source": [
    "## Now using a generator (function) that yields items instead of returning a list\n",
    "def firstn(n):\n",
    "    num = 0\n",
    "    while num < n:\n",
    "        yield num\n",
    "        print(num)\n",
    "        num += 1\n",
    "\n",
    "sum_of_first_n = sum(firstn(10))\n",
    "print (\"Result from generator:\", sum_of_first_n)\n"
   ]
  },
  {
   "cell_type": "code",
   "execution_count": null,
   "metadata": {},
   "outputs": [],
   "source": [
    "## Generators with the next keyworkd\n",
    "def even_numbers():\n",
    "    num = 0 \n",
    "    while True:\n",
    "        yield num\n",
    "        num += 2\n",
    "\n",
    "## we create a generator object by calling the generator function\n",
    "## and name it even_gen\n",
    "even_gen = even_numbers()\n",
    "print (even_gen)\n",
    "# Get the first 5 numbers\n",
    "for _ in range(5):\n",
    "    print(next(even_gen))\n",
    "\n",
    "print(\"now restart printing:\")\n",
    "## Must recreate the object?\n",
    "even_gen = even_numbers()\n",
    "for _ in range(10):\n",
    "    print(next(even_gen))\n"
   ]
  },
  {
   "cell_type": "code",
   "execution_count": null,
   "metadata": {},
   "outputs": [],
   "source": [
    "# =============================================================================\n",
    "# Using next with default value\n",
    "# =============================================================================\n",
    "def limited_alphabet(limit):\n",
    "    for i in range(65, 65 + limit):\n",
    "        yield chr(i)\n",
    "\n",
    "alphabet_gen = limited_alphabet(5)\n",
    "\n",
    "print(next(alphabet_gen, \"End of sequence\"))\n",
    "print(next(alphabet_gen, \"End of sequence\"))\n",
    "print(next(alphabet_gen, \"End of sequence\"))\n",
    "print(next(alphabet_gen, \"End of sequence\"))\n",
    "print(next(alphabet_gen, \"End of sequence\"))\n",
    "\n",
    "# This would return \"End of sequence\" since there are no more elements\n",
    "print(next(alphabet_gen, \"End of sequence\"))"
   ]
  },
  {
   "cell_type": "code",
   "execution_count": null,
   "metadata": {},
   "outputs": [],
   "source": [
    "# =============================================================================\n",
    "# Generators: Yield Keyword\n",
    "# =============================================================================\n",
    "def fibonacci():\n",
    "    a, b = 0, 1\n",
    "    while True:\n",
    "        yield a\n",
    "        a, b = b, a + b  # reads: a = b and b = a+b\n",
    "\n",
    "fib_gen = fibonacci()\n",
    "for _ in range(10):\n",
    "    print(next(fib_gen))\n"
   ]
  },
  {
   "cell_type": "code",
   "execution_count": 61,
   "metadata": {},
   "outputs": [
    {
     "name": "stdout",
     "output_type": "stream",
     "text": [
      "[0, 2, 4, 6, 8]\n",
      "[0, 2, 4, 6, 8]\n",
      "20\n",
      "[1, 2, 3, 4, 5]\n",
      "[4, 16]\n",
      "[4, 16]\n"
     ]
    }
   ],
   "source": [
    "# list comprehension\n",
    "doubles = [2 * n for n in range(5)]  ## Generates a list,\n",
    "print(doubles)\n",
    "\n",
    "# same as the list comprehensio above\n",
    "doubles = list(2 * n for n in range(5))\n",
    "print (doubles )\n",
    "sum_of_doubles = sum(doubles)\n",
    "print(sum_of_doubles)\n",
    "\n",
    "numbers = [1, 2, 3, 4, 5]\n",
    "numbers = [n for n in range(6) if n > 0]\n",
    "print (numbers)\n",
    "squares = [x * x for x in numbers if x % 2 == 0 ]\n",
    "print(squares)\n",
    "\n",
    "# note the squares is a list, and must fit entirely in memory\n",
    "print(squares)\n"
   ]
  },
  {
   "cell_type": "code",
   "execution_count": null,
   "metadata": {},
   "outputs": [],
   "source": [
    "matrix = [[1, 2, 3], [4, 5, 6], [7, 8, 9]]\n",
    "print (type(matrix), matrix)\n",
    "flattened = [num for row in matrix for num in row ]\n",
    "flattened2 = [n for r in matrix for n in r ]\n",
    "print(type(flattened), flattened)\n",
    "print(type(flattened), flattened2)\n",
    "\n",
    "matrix = [[1, 2, 3], [4, 5, 6], [7, 8, 9]]\n",
    "new_element = [10, 11, 12]\n",
    "print (type(matrix), matrix)\n",
    "matrix.append(new_element)\n",
    "print (type(matrix), matrix)\n",
    "\n",
    "## Print list elements\n",
    "n = 0\n",
    "while n < len(matrix):\n",
    "    print(matrix[n])\n",
    "    n += 1\n",
    "\n",
    "## loop through a list with for\n",
    "for x in matrix:\n",
    "    print(x)\n",
    "\n",
    "## loop through a list with index number\n",
    "for i in range(len(matrix)):\n",
    "    print(matrix[i])\n",
    "\n",
    "## Looping with list comprehension\n",
    "print(\"Now using comprehension:\")\n",
    "[print(x) for x in matrix]\n",
    "\n",
    "\n",
    "# Printing only some rows\n",
    "print(\"Now printing only rows with the number 1\")\n",
    "newmatrix = [x for x in matrix if 1 in x]\n",
    "print(newmatrix)"
   ]
  },
  {
   "cell_type": "code",
   "execution_count": null,
   "metadata": {},
   "outputs": [],
   "source": [
    "# Dictionary comprehensions\n",
    "words = ['apple', 'banana', 'orange']\n",
    "word_lengths = {word: len(word) for word in words}\n",
    "print(word_lengths)\n",
    "print(\"Dict length:\", len(word_lengths))\n",
    "\n",
    "# get dict keys: \n",
    "x = word_lengths.keys()\n",
    "print(x)\n",
    "\n",
    "# get dict values:\n",
    "x = word_lengths.values()\n",
    "print(x)\n",
    "\n",
    "# get items - return dict elements as tuples, in a list\n",
    "x = word_lengths.items()\n",
    "print(x)\n",
    "\n"
   ]
  },
  {
   "cell_type": "code",
   "execution_count": null,
   "metadata": {},
   "outputs": [],
   "source": [
    "## Sets - unordered, unchangeable, and unindexed\n",
    "thisset = {\"apple\", \"banana\", \"grape\"}\n",
    "print(thisset)\n",
    "\n",
    "# =============================================================================\n",
    "# Set Comprehensions \n",
    "# =============================================================================\n",
    "input_list = ['LARGE WHITE HEART OF WICKER', \n",
    "              'MEDIUM CERAMIC TOP STORAGE JAR', \n",
    "              'POLKADOT JAR', \n",
    "              'RED T-SHIRT', \n",
    "              'Red T-shirt'\n",
    "              ]\n",
    "\n",
    "output_set = {word.lower() \n",
    "              for sentence in input_list \n",
    "              for word in sentence.split()\n",
    "              }\n",
    "print(output_set)  \n",
    "# Output: {'large', 'white', 'heart', 'of', 'wicker', 'medium', 'ceramic', \n",
    "# 'top', 'storage', 'jar', 'polkadot', 'red', 't-shirt'}\n",
    "\n",
    "## Loop set \n",
    "for x in output_set:\n",
    "    print(x)"
   ]
  },
  {
   "cell_type": "code",
   "execution_count": 65,
   "metadata": {},
   "outputs": [
    {
     "name": "stdout",
     "output_type": "stream",
     "text": [
      "4\n",
      "16\n",
      "[4, 16]\n",
      "<generator object <genexpr> at 0x11ad47ac0>\n"
     ]
    }
   ],
   "source": [
    "## Generator comprehensions\n",
    "numbers = [1,2,3,4,5]\n",
    "squares_generator = (x * x for x in numbers if x % 2 == 0)\n",
    "\n",
    "for square in squares_generator:\n",
    "    print(square)\n",
    "\n",
    "## Compare to a LIST: \n",
    "squares = [x * x for x in numbers if x % 2 == 0 ]\n",
    "\n",
    "# note the squares is a list, and must fit entirely in memory\n",
    "print(squares)\n",
    "\n",
    "## note that the  list is not built on memory. Each object is generated \n",
    "## on demant\n",
    "squares_generator\n",
    "\n"
   ]
  }
 ],
 "metadata": {
  "kernelspec": {
   "display_name": "Python 3",
   "language": "python",
   "name": "python3"
  },
  "language_info": {
   "codemirror_mode": {
    "name": "ipython",
    "version": 3
   },
   "file_extension": ".py",
   "mimetype": "text/x-python",
   "name": "python",
   "nbconvert_exporter": "python",
   "pygments_lexer": "ipython3",
   "version": "3.11.1"
  },
  "orig_nbformat": 4
 },
 "nbformat": 4,
 "nbformat_minor": 2
}
